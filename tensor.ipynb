{
 "cells": [
  {
   "cell_type": "markdown",
   "metadata": {
    "collapsed": true
   },
   "source": [
    "# tensor初始化、数学操作等"
   ]
  },
  {
   "cell_type": "markdown",
   "metadata": {},
   "source": [
    "## 初始化\n",
    "   "
   ]
  },
  {
   "cell_type": "markdown",
   "metadata": {},
   "source": [
    "### torch.tensor()"
   ]
  },
  {
   "cell_type": "markdown",
   "metadata": {},
   "source": [
    "使用`torch.tensor()`将numpy或者list等转换为tensor"
   ]
  },
  {
   "cell_type": "code",
   "execution_count": 1,
   "metadata": {},
   "outputs": [
    {
     "name": "stdout",
     "output_type": "stream",
     "text": [
      "tensor([0., 0., 0.], dtype=torch.float64)\n"
     ]
    }
   ],
   "source": [
    "import torch\n",
    "import numpy as np\n",
    "my_tensor=torch.tensor(np.ones(3))\n",
    "print(my_tensor)"
   ]
  },
  {
   "cell_type": "code",
   "execution_count": 4,
   "metadata": {},
   "outputs": [
    {
     "data": {
      "text/plain": [
       "tensor([1, 2, 3])"
      ]
     },
     "execution_count": 4,
     "metadata": {},
     "output_type": "execute_result"
    }
   ],
   "source": [
    "my_tensor=torch.tensor([1,2,3])\n",
    "my_tensor"
   ]
  },
  {
   "cell_type": "markdown",
   "metadata": {},
   "source": [
    "使用多维list初始化多维tensor,例如下述代码初始化一个两行三列的tensor"
   ]
  },
  {
   "cell_type": "code",
   "execution_count": 36,
   "metadata": {},
   "outputs": [
    {
     "name": "stdout",
     "output_type": "stream",
     "text": [
      "tensor([[1, 2, 3],\n",
      "        [4, 5, 6]])\n",
      "torch.Size([2, 3])\n"
     ]
    }
   ],
   "source": [
    "my_tensor=torch.tensor([[1,2,3],[4, 5, 6]])\n",
    "print(my_tenosr)\n",
    "print(my_tenosr.shape)"
   ]
  },
  {
   "cell_type": "markdown",
   "metadata": {},
   "source": [
    "通过`dtype`字段指定数据类型，`dtype`可选`torch.float32`, `torch.float64`, `torch.float16`, `torch.int8`, `torch.int16`, `torch.int32`等\n",
    "\n",
    "例如"
   ]
  },
  {
   "cell_type": "code",
   "execution_count": 15,
   "metadata": {},
   "outputs": [
    {
     "data": {
      "text/plain": [
       "tensor([[1., 2., 3.],\n",
       "        [4., 5., 6.]], dtype=torch.float64)"
      ]
     },
     "execution_count": 15,
     "metadata": {},
     "output_type": "execute_result"
    }
   ],
   "source": [
    "my_tensor=torch.tensor([[1,2,3],[4, 5, 6]],dtype=torch.float64)\n",
    "my_tensor"
   ]
  },
  {
   "cell_type": "code",
   "execution_count": 18,
   "metadata": {},
   "outputs": [
    {
     "data": {
      "text/plain": [
       "tensor([[1., 2., 3.],\n",
       "        [4., 5., 6.]])"
      ]
     },
     "execution_count": 18,
     "metadata": {},
     "output_type": "execute_result"
    }
   ],
   "source": [
    "my_tensor=torch.tensor([[1,2,3],[4, 5, 6]],dtype=torch.float32)\n",
    "my_tensor"
   ]
  },
  {
   "cell_type": "code",
   "execution_count": 17,
   "metadata": {},
   "outputs": [
    {
     "data": {
      "text/plain": [
       "tensor([[1, 2, 3],\n",
       "        [4, 5, 6]], dtype=torch.int32)"
      ]
     },
     "execution_count": 17,
     "metadata": {},
     "output_type": "execute_result"
    }
   ],
   "source": [
    "my_tensor=torch.tensor([[1,2,3],[4, 5, 6]],dtype=torch.int32)\n",
    "my_tensor"
   ]
  },
  {
   "cell_type": "markdown",
   "metadata": {},
   "source": [
    "通过`device`字段指定将tensor分配分配给哪个设备（cpu或则gpu）。具体来说，`torch.device`代表将`torch.Tensor`分配到的设备的对象。`torch.device`包含一个设备类型（‘cpu’或‘cuda’）和可选的设备序号。如果设备序号不存在，则为当前设备。如：`torch.Tensor`用设备构建`'cuda'`的结果等同于`‘cuda：X’`，其中X是`torch.cuda.current_device()`的结果。"
   ]
  },
  {
   "cell_type": "code",
   "execution_count": 23,
   "metadata": {},
   "outputs": [
    {
     "name": "stdout",
     "output_type": "stream",
     "text": [
      "cpu\n"
     ]
    }
   ],
   "source": [
    "my_tensor=torch.tensor([[1,2,3],[4, 5, 6]],dtype=torch.int32,device='cpu')\n",
    "print(my_tensor.device)"
   ]
  },
  {
   "cell_type": "markdown",
   "metadata": {},
   "source": [
    "可以使用如下代码，优先将tensor分配给GPU"
   ]
  },
  {
   "cell_type": "code",
   "execution_count": 25,
   "metadata": {},
   "outputs": [
    {
     "name": "stdout",
     "output_type": "stream",
     "text": [
      "cpu\n"
     ]
    }
   ],
   "source": [
    "mydevice='cuda' if torch.cuda.is_available() else 'cpu'\n",
    "print(mydevice)"
   ]
  },
  {
   "cell_type": "code",
   "execution_count": 30,
   "metadata": {},
   "outputs": [
    {
     "name": "stdout",
     "output_type": "stream",
     "text": [
      "cpu\n",
      "torch.int64\n"
     ]
    }
   ],
   "source": [
    "my_tensor=torch.tensor([1,2,3],device=mydevice)\n",
    "print(my_tensor.device)\n",
    "print(my_tensor.dtype)"
   ]
  },
  {
   "cell_type": "markdown",
   "metadata": {},
   "source": [
    "通过字段'requires_grad'来指定tensor是否需要进行求导（反向传播），默认情况下该字段为`False`"
   ]
  },
  {
   "cell_type": "code",
   "execution_count": 38,
   "metadata": {},
   "outputs": [
    {
     "name": "stdout",
     "output_type": "stream",
     "text": [
      "False\n"
     ]
    }
   ],
   "source": [
    "print(my_tensor.requires_grad)"
   ]
  },
  {
   "cell_type": "code",
   "execution_count": 39,
   "metadata": {},
   "outputs": [
    {
     "name": "stdout",
     "output_type": "stream",
     "text": [
      "True\n"
     ]
    }
   ],
   "source": [
    "my_tensor=torch.tensor([1.5,2,3],requires_grad=True)\n",
    "print(my_tensor.requires_grad)"
   ]
  },
  {
   "cell_type": "markdown",
   "metadata": {},
   "source": [
    "如果想改变`requires_grad`这个属性，可以调用`tensor.requires_grad_()`方法：\n",
    "```\n",
    "x.requires_grad_(True)\n",
    "```"
   ]
  },
  {
   "cell_type": "code",
   "execution_count": 40,
   "metadata": {},
   "outputs": [
    {
     "name": "stdout",
     "output_type": "stream",
     "text": [
      "False\n",
      "True\n"
     ]
    }
   ],
   "source": [
    "my_tensor=torch.tensor([1.5,2,3])\n",
    "print(my_tensor.requires_grad)\n",
    "my_tensor.requires_grad_(True)\n",
    "print(my_tensor.requires_grad)"
   ]
  },
  {
   "cell_type": "markdown",
   "metadata": {},
   "source": [
    "### 填充指定size的tensor\n",
    "1. torch.empty()  \n",
    "2. torch.ones()\n",
    "3. torch.zeros()  \n",
    "4. torch.eye()"
   ]
  },
  {
   "cell_type": "markdown",
   "metadata": {},
   "source": [
    "#### 1. torch.empty()"
   ]
  },
  {
   "cell_type": "markdown",
   "metadata": {},
   "source": [
    "使用`torch.empty()`可以创建包含未初始化数据的张量\n",
    "标量值0填充的张量,其形状由变量参数size定义"
   ]
  },
  {
   "cell_type": "code",
   "execution_count": 47,
   "metadata": {},
   "outputs": [
    {
     "name": "stdout",
     "output_type": "stream",
     "text": [
      "torch.Size([3, 4])\n",
      "tensor([[0., 0., 0., 0.],\n",
      "        [0., 0., 0., 0.],\n",
      "        [0., 0., 0., 0.]])\n"
     ]
    }
   ],
   "source": [
    "my_tensor=torch.empty((3,4))\n",
    "print(my_tensor.shape)\n",
    "print(my_tensor)#具体值实际上待定，不要以为是初始化为0"
   ]
  },
  {
   "cell_type": "code",
   "execution_count": null,
   "metadata": {},
   "outputs": [],
   "source": [
    "#### 2. torch.zeros()"
   ]
  },
  {
   "cell_type": "code",
   "execution_count": 70,
   "metadata": {},
   "outputs": [
    {
     "name": "stdout",
     "output_type": "stream",
     "text": [
      "torch.Size([3, 4])\n",
      "tensor([[0., 0., 0., 0.],\n",
      "        [0., 0., 0., 0.],\n",
      "        [0., 0., 0., 0.]])\n"
     ]
    }
   ],
   "source": [
    "my_tensor=torch.zeros(3,4)\n",
    "print(my_tensor.shape)\n",
    "print(my_tensor)"
   ]
  },
  {
   "cell_type": "markdown",
   "metadata": {},
   "source": [
    "#### 3. torch.ones()"
   ]
  },
  {
   "cell_type": "code",
   "execution_count": 69,
   "metadata": {},
   "outputs": [
    {
     "name": "stdout",
     "output_type": "stream",
     "text": [
      "torch.Size([3, 4, 5])\n",
      "tensor([[[1., 1., 1., 1., 1.],\n",
      "         [1., 1., 1., 1., 1.],\n",
      "         [1., 1., 1., 1., 1.],\n",
      "         [1., 1., 1., 1., 1.]],\n",
      "\n",
      "        [[1., 1., 1., 1., 1.],\n",
      "         [1., 1., 1., 1., 1.],\n",
      "         [1., 1., 1., 1., 1.],\n",
      "         [1., 1., 1., 1., 1.]],\n",
      "\n",
      "        [[1., 1., 1., 1., 1.],\n",
      "         [1., 1., 1., 1., 1.],\n",
      "         [1., 1., 1., 1., 1.],\n",
      "         [1., 1., 1., 1., 1.]]])\n"
     ]
    }
   ],
   "source": [
    "my_tensor=torch.ones(3,4,5)\n",
    "print(my_tensor.shape)\n",
    "print(my_tensor)"
   ]
  },
  {
   "cell_type": "markdown",
   "metadata": {},
   "source": [
    "#### 4. torch.eye()  \n",
    "生成对角线全1，其余部分全0的二维数组"
   ]
  },
  {
   "cell_type": "code",
   "execution_count": 63,
   "metadata": {},
   "outputs": [
    {
     "name": "stdout",
     "output_type": "stream",
     "text": [
      "torch.Size([3, 3])\n",
      "tensor([[1., 0., 0.],\n",
      "        [0., 1., 0.],\n",
      "        [0., 0., 1.]])\n"
     ]
    }
   ],
   "source": [
    "my_tensor=torch.eye(3)\n",
    "print(my_tensor.shape)\n",
    "print(my_tensor)"
   ]
  },
  {
   "cell_type": "code",
   "execution_count": 64,
   "metadata": {},
   "outputs": [
    {
     "name": "stdout",
     "output_type": "stream",
     "text": [
      "torch.Size([2, 3])\n",
      "tensor([[1., 0., 0.],\n",
      "        [0., 1., 0.]])\n"
     ]
    }
   ],
   "source": [
    "my_tensor=torch.eye(2,3)\n",
    "print(my_tensor.shape)\n",
    "print(my_tensor)"
   ]
  },
  {
   "cell_type": "markdown",
   "metadata": {},
   "source": [
    "#### 4. torch.rand()  \n",
    "包含了从区间[0, 1)的均匀分布中抽取的一组随机数"
   ]
  },
  {
   "cell_type": "code",
   "execution_count": 68,
   "metadata": {},
   "outputs": [
    {
     "name": "stdout",
     "output_type": "stream",
     "text": [
      "torch.Size([3, 4])\n",
      "tensor([[0.4518, 0.6142, 0.7612, 0.3828],\n",
      "        [0.6862, 0.0493, 0.5492, 0.2327],\n",
      "        [0.7688, 0.1837, 0.6124, 0.3847]])\n"
     ]
    }
   ],
   "source": [
    "my_tensor=torch.rand(3,4)\n",
    "print(my_tensor.shape)\n",
    "print(my_tensor)"
   ]
  },
  {
   "cell_type": "markdown",
   "metadata": {},
   "source": [
    "#### 4. torch.randn()  \n",
    "包含了从**标准正态分布**中抽取的一组随机数"
   ]
  },
  {
   "cell_type": "code",
   "execution_count": 67,
   "metadata": {},
   "outputs": [
    {
     "name": "stdout",
     "output_type": "stream",
     "text": [
      "torch.Size([3, 4])\n",
      "tensor([[ 0.0647, -0.1434,  2.0323, -0.2759],\n",
      "        [-0.9258,  0.3505, -0.7455, -0.0367],\n",
      "        [ 0.6792,  0.5661,  1.5247, -1.3066]])\n"
     ]
    }
   ],
   "source": [
    "my_tensor=torch.randn(3,4)\n",
    "print(my_tensor.shape)\n",
    "print(my_tensor)"
   ]
  },
  {
   "cell_type": "markdown",
   "metadata": {},
   "source": [
    "#### torch.arange( start, end, step)：不含end (建议使用)\n",
    "#### torch.range( start, end, step): 含end (不建议使用，后续可能会被移除)"
   ]
  },
  {
   "cell_type": "code",
   "execution_count": 82,
   "metadata": {},
   "outputs": [
    {
     "name": "stdout",
     "output_type": "stream",
     "text": [
      "torch.Size([5])\n",
      "tensor([0, 1, 2, 3, 4])\n",
      "torch.Size([6])\n",
      "tensor([0., 1., 2., 3., 4., 5.])\n"
     ]
    },
    {
     "name": "stderr",
     "output_type": "stream",
     "text": [
      "<ipython-input-82-c200653eb586>:4: UserWarning: torch.range is deprecated and will be removed in a future release because its behavior is inconsistent with Python's range builtin. Instead, use torch.arange, which produces values in [start, end).\n",
      "  my_tensor = torch.range(start=0, end=5, step=1)\n"
     ]
    }
   ],
   "source": [
    "my_tensor = torch.arange(start=0, end=5, step=1)  \n",
    "print(my_tensor.shape)\n",
    "print(my_tensor)\n",
    "my_tensor = torch.range(start=0, end=5, step=1)  \n",
    "print(my_tensor.shape)\n",
    "print(my_tensor)"
   ]
  },
  {
   "cell_type": "markdown",
   "metadata": {},
   "source": [
    "也可以不用加start和end关键字，按参数次序写即可"
   ]
  },
  {
   "cell_type": "code",
   "execution_count": 88,
   "metadata": {},
   "outputs": [
    {
     "name": "stdout",
     "output_type": "stream",
     "text": [
      "torch.Size([3])\n",
      "tensor([0, 2, 4])\n",
      "torch.Size([3])\n",
      "tensor([0., 2., 4.])\n"
     ]
    },
    {
     "name": "stderr",
     "output_type": "stream",
     "text": [
      "<ipython-input-88-1464d512cadc>:4: UserWarning: torch.range is deprecated and will be removed in a future release because its behavior is inconsistent with Python's range builtin. Instead, use torch.arange, which produces values in [start, end).\n",
      "  my_tensor = torch.range(0,5,2)\n"
     ]
    }
   ],
   "source": [
    "my_tensor = torch.arange(0,5,2)  \n",
    "print(my_tensor.shape)\n",
    "print(my_tensor)\n",
    "my_tensor = torch.range(0,5,2)  \n",
    "print(my_tensor.shape)\n",
    "print(my_tensor)"
   ]
  },
  {
   "cell_type": "markdown",
   "metadata": {},
   "source": [
    "step参数默认为1"
   ]
  },
  {
   "cell_type": "code",
   "execution_count": 84,
   "metadata": {},
   "outputs": [
    {
     "name": "stdout",
     "output_type": "stream",
     "text": [
      "torch.Size([5])\n",
      "tensor([0, 1, 2, 3, 4])\n",
      "torch.Size([6])\n",
      "tensor([0., 1., 2., 3., 4., 5.])\n"
     ]
    },
    {
     "name": "stderr",
     "output_type": "stream",
     "text": [
      "<ipython-input-84-5b1a9771b9c9>:4: UserWarning: torch.range is deprecated and will be removed in a future release because its behavior is inconsistent with Python's range builtin. Instead, use torch.arange, which produces values in [start, end).\n",
      "  my_tensor = torch.range(0,5)\n"
     ]
    }
   ],
   "source": [
    "my_tensor = torch.arange(0,5)  \n",
    "print(my_tensor.shape)\n",
    "print(my_tensor)\n",
    "my_tensor = torch.range(0,5) #注意，结果中包含end \n",
    "print(my_tensor.shape)\n",
    "print(my_tensor)"
   ]
  },
  {
   "cell_type": "markdown",
   "metadata": {},
   "source": [
    "也可以只传入end参数，此时默认start为0"
   ]
  },
  {
   "cell_type": "code",
   "execution_count": 80,
   "metadata": {},
   "outputs": [
    {
     "ename": "SyntaxError",
     "evalue": "invalid syntax (<ipython-input-80-15233ef67f78>, line 1)",
     "output_type": "error",
     "traceback": [
      "\u001B[1;36m  File \u001B[1;32m\"<ipython-input-80-15233ef67f78>\"\u001B[1;36m, line \u001B[1;32m1\u001B[0m\n\u001B[1;33m    my_tensor = torch.arange( ,11,2)\u001B[0m\n\u001B[1;37m                              ^\u001B[0m\n\u001B[1;31mSyntaxError\u001B[0m\u001B[1;31m:\u001B[0m invalid syntax\n"
     ]
    }
   ],
   "source": [
    "my_tensor = torch.arange( ,11,2)  \n",
    "print(my_tensor.shape)\n",
    "print(my_tensor)"
   ]
  },
  {
   "cell_type": "code",
   "execution_count": 87,
   "metadata": {},
   "outputs": [
    {
     "name": "stdout",
     "output_type": "stream",
     "text": [
      "torch.Size([5])\n",
      "tensor([0, 1, 2, 3, 4])\n",
      "torch.Size([6])\n",
      "tensor([0., 1., 2., 3., 4., 5.])\n"
     ]
    },
    {
     "name": "stderr",
     "output_type": "stream",
     "text": [
      "<ipython-input-87-1bff08bca9ba>:4: UserWarning: torch.range is deprecated and will be removed in a future release because its behavior is inconsistent with Python's range builtin. Instead, use torch.arange, which produces values in [start, end).\n",
      "  my_tensor = torch.range(0,5)\n"
     ]
    }
   ],
   "source": [
    "my_tensor = torch.arange(5)  \n",
    "print(my_tensor.shape)\n",
    "print(my_tensor)\n",
    "my_tensor = torch.range(0,5)  \n",
    "print(my_tensor.shape)\n",
    "print(my_tensor)"
   ]
  },
  {
   "cell_type": "code",
   "execution_count": null,
   "metadata": {},
   "outputs": [],
   "source": [
    "x = torch.linspace(start=0.1, end=1, steps=10)  # x = [0.1, 0.2, ..., 1]"
   ]
  },
  {
   "cell_type": "markdown",
   "metadata": {},
   "source": [
    "#### torch.linspace(start, end, steps)\n",
    "`torch.linspace`同`torch.range`均是左闭右闭，即返回值中既包含start也包含end. 但是不同之处在于，`torch.linspace`中的steps参数应该理解为元素总个数，而`torch.range`中的step参数应该理解为步长（前后元素之间的差）\n",
    "这个张量包含了从start到end（包括端点）的等距的steps个数据点"
   ]
  },
  {
   "cell_type": "code",
   "execution_count": 89,
   "metadata": {},
   "outputs": [
    {
     "name": "stdout",
     "output_type": "stream",
     "text": [
      "torch.Size([3])\n",
      "tensor([0., 2., 4.])\n",
      "torch.Size([2])\n",
      "tensor([0., 5.])\n"
     ]
    },
    {
     "name": "stderr",
     "output_type": "stream",
     "text": [
      "<ipython-input-89-1f46291fd614>:1: UserWarning: torch.range is deprecated and will be removed in a future release because its behavior is inconsistent with Python's range builtin. Instead, use torch.arange, which produces values in [start, end).\n",
      "  my_tensor = torch.range(0,5,2)\n"
     ]
    }
   ],
   "source": [
    "my_tensor = torch.range(0,5,2)  \n",
    "print(my_tensor.shape)\n",
    "print(my_tensor)\n",
    "my_tensor = torch.linspace(0,5,2)  \n",
    "print(my_tensor.shape)\n",
    "print(my_tensor)"
   ]
  },
  {
   "cell_type": "markdown",
   "metadata": {},
   "source": [
    "#### torch.diag(input, diagonal=0, out=None) → Tensor\n",
    "如果输入是一个向量(1D 张量)，则返回一个以input为对角线元素的2D方阵\n",
    "如果输入是一个矩阵(2D 张量)，则返回一个包含input对角线元素的1D张量\n",
    "\n",
    "参数diagonal指定对角线:\n",
    "diagonal = 0, 主对角线\n",
    "diagonal > 0, 主对角线之上\n",
    "diagonal < 0, 主对角线之下\n",
    "————————————————"
   ]
  },
  {
   "cell_type": "code",
   "execution_count": 93,
   "metadata": {},
   "outputs": [
    {
     "name": "stdout",
     "output_type": "stream",
     "text": [
      "tensor([1., 1., 1.])\n",
      "torch.Size([3])\n"
     ]
    }
   ],
   "source": [
    "my_tensor = torch.ones(3,3)\n",
    "print(torch.diag(my_tensor))#主对角线\n",
    "print(torch.diag(my_tensor).shape)"
   ]
  },
  {
   "cell_type": "code",
   "execution_count": 94,
   "metadata": {},
   "outputs": [
    {
     "name": "stdout",
     "output_type": "stream",
     "text": [
      "tensor([1., 1.])\n",
      "torch.Size([3])\n"
     ]
    }
   ],
   "source": [
    "print(torch.diag(my_tensor,1)) #主对角线之上的第一条对角线\n",
    "print(torch.diag(my_tensor).shape)"
   ]
  },
  {
   "cell_type": "code",
   "execution_count": 95,
   "metadata": {},
   "outputs": [
    {
     "name": "stdout",
     "output_type": "stream",
     "text": [
      "tensor([])\n",
      "torch.Size([3])\n"
     ]
    }
   ],
   "source": [
    "print(torch.diag(my_tensor,2)) #主对角线之上的第二条对角线\n",
    "print(torch.diag(my_tensor).shape)"
   ]
  },
  {
   "cell_type": "code",
   "execution_count": 96,
   "metadata": {},
   "outputs": [
    {
     "name": "stdout",
     "output_type": "stream",
     "text": [
      "tensor([1.])\n",
      "torch.Size([3])\n"
     ]
    }
   ],
   "source": [
    "print(torch.diag(my_tensor,-2)) #主对角线之下的第二条对角线\n",
    "print(torch.diag(my_tensor).shape)"
   ]
  },
  {
   "cell_type": "code",
   "execution_count": 97,
   "metadata": {},
   "outputs": [
    {
     "name": "stdout",
     "output_type": "stream",
     "text": [
      "tensor([])\n",
      "torch.Size([3])\n"
     ]
    }
   ],
   "source": [
    "print(torch.diag(my_tensor,3)) #主对角线之上的第三条对角线（无元素）\n",
    "print(torch.diag(my_tensor).shape)"
   ]
  },
  {
   "cell_type": "markdown",
   "metadata": {},
   "source": [
    "转换数值类型(int, float, double)等"
   ]
  },
  {
   "cell_type": "code",
   "execution_count": 105,
   "metadata": {},
   "outputs": [
    {
     "data": {
      "text/plain": [
       "tensor([-2, -1,  0,  1,  2])"
      ]
     },
     "execution_count": 105,
     "metadata": {},
     "output_type": "execute_result"
    }
   ],
   "source": [
    "my_tensor = torch.tensor([-2,-1,0,1,2])\n",
    "my_tensor"
   ]
  },
  {
   "cell_type": "markdown",
   "metadata": {},
   "source": [
    "转换为布尔类型（将非0值转为True）"
   ]
  },
  {
   "cell_type": "code",
   "execution_count": 108,
   "metadata": {},
   "outputs": [
    {
     "name": "stdout",
     "output_type": "stream",
     "text": [
      "Converted Boolean: tensor([ True,  True, False,  True,  True])\n",
      "Converted int16 tensor([-2, -1,  0,  1,  2], dtype=torch.int16)\n",
      "Converted int64 tensor([-2, -1,  0,  1,  2])\n",
      "Converted float16 tensor([-2., -1.,  0.,  1.,  2.], dtype=torch.float16)\n",
      "Converted float32 tensor([-2., -1.,  0.,  1.,  2.])\n",
      "Converted float64 tensor([-2., -1.,  0.,  1.,  2.], dtype=torch.float64)\n"
     ]
    }
   ],
   "source": [
    "print(f\"Converted Boolean: {my_tensor.bool()}\")  # Converted to Boolean: 1 if nonzero\n"
   ]
  },
  {
   "cell_type": "markdown",
   "metadata": {},
   "source": [
    "转换为int16"
   ]
  },
  {
   "cell_type": "code",
   "execution_count": 109,
   "metadata": {},
   "outputs": [
    {
     "name": "stdout",
     "output_type": "stream",
     "text": [
      "Converted int16 tensor([-2, -1,  0,  1,  2], dtype=torch.int16)\n"
     ]
    }
   ],
   "source": [
    "print(f\"Converted int16 {my_tensor.short()}\")  # Converted to int16"
   ]
  },
  {
   "cell_type": "markdown",
   "metadata": {},
   "source": [
    "转换为int64"
   ]
  },
  {
   "cell_type": "code",
   "execution_count": 110,
   "metadata": {},
   "outputs": [
    {
     "name": "stdout",
     "output_type": "stream",
     "text": [
      "Converted int64 tensor([-2, -1,  0,  1,  2])\n"
     ]
    }
   ],
   "source": [
    "print(\n",
    "    f\"Converted int64 {my_tensor.long()}\"\n",
    ")  # Converted to int64 (This one is very important, used super often)"
   ]
  },
  {
   "cell_type": "markdown",
   "metadata": {},
   "source": [
    "转换为float16"
   ]
  },
  {
   "cell_type": "code",
   "execution_count": 111,
   "metadata": {},
   "outputs": [
    {
     "name": "stdout",
     "output_type": "stream",
     "text": [
      "Converted float16 tensor([-2., -1.,  0.,  1.,  2.], dtype=torch.float16)\n"
     ]
    }
   ],
   "source": [
    "print(f\"Converted float16 {my_tensor.half()}\")  # Converted to float16\n"
   ]
  },
  {
   "cell_type": "markdown",
   "metadata": {},
   "source": [
    "转换为float32"
   ]
  },
  {
   "cell_type": "code",
   "execution_count": 112,
   "metadata": {},
   "outputs": [
    {
     "name": "stdout",
     "output_type": "stream",
     "text": [
      "Converted float32 tensor([-2., -1.,  0.,  1.,  2.])\n"
     ]
    }
   ],
   "source": [
    "print(\n",
    "    f\"Converted float32 {my_tensor.float()}\"\n",
    ")  # Converted to float32 (This one is very important, used super often)\n"
   ]
  },
  {
   "cell_type": "markdown",
   "metadata": {},
   "source": [
    "转换为float64"
   ]
  },
  {
   "cell_type": "code",
   "execution_count": 113,
   "metadata": {},
   "outputs": [
    {
     "name": "stdout",
     "output_type": "stream",
     "text": [
      "Converted float64 tensor([-2., -1.,  0.,  1.,  2.], dtype=torch.float64)\n"
     ]
    }
   ],
   "source": [
    "print(f\"Converted float64 {my_tensor.double()}\")  # Converted to float64"
   ]
  },
  {
   "cell_type": "markdown",
   "metadata": {},
   "source": [
    "##### torch.from_numpy()与torch.numpy()\n",
    "前者将numpy类型转换为tensor，后者将tensor转换为numpy类型"
   ]
  },
  {
   "cell_type": "code",
   "execution_count": 116,
   "metadata": {},
   "outputs": [
    {
     "name": "stdout",
     "output_type": "stream",
     "text": [
      "tensor([[0., 0., 0., 0., 0.],\n",
      "        [0., 0., 0., 0., 0.],\n",
      "        [0., 0., 0., 0., 0.],\n",
      "        [0., 0., 0., 0., 0.],\n",
      "        [0., 0., 0., 0., 0.]], dtype=torch.float64)\n",
      "[[0. 0. 0. 0. 0.]\n",
      " [0. 0. 0. 0. 0.]\n",
      " [0. 0. 0. 0. 0.]\n",
      " [0. 0. 0. 0. 0.]\n",
      " [0. 0. 0. 0. 0.]]\n"
     ]
    }
   ],
   "source": [
    "np_array = np.zeros((5, 5))\n",
    "my_tensor = torch.from_numpy(np_array)\n",
    "np_array_again = (\n",
    "    my_tensor.numpy()\n",
    ")  # np_array_again will be same as np_array (perhaps with numerical round offs)\n",
    "print(my_tensor)\n",
    "print(np_array_again)"
   ]
  },
  {
   "cell_type": "code",
   "execution_count": null,
   "metadata": {},
   "outputs": [],
   "source": []
  }
 ],
 "metadata": {
  "kernelspec": {
   "display_name": "Python 3",
   "language": "python",
   "name": "python3"
  },
  "language_info": {
   "codemirror_mode": {
    "name": "ipython",
    "version": 3
   },
   "file_extension": ".py",
   "mimetype": "text/x-python",
   "name": "python",
   "nbconvert_exporter": "python",
   "pygments_lexer": "ipython3",
   "version": "3.8.8"
  }
 },
 "nbformat": 4,
 "nbformat_minor": 1
}